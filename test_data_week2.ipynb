{
 "cells": [
  {
   "cell_type": "markdown",
   "metadata": {},
   "source": [
    "# KnowLow = No Low\n",
    "## DirecNetExercise2Study - Effect of exercise per se on the risk of nocturnal hypoglycemia\n",
    "### Attempts to evaluate the most effective methods of adjusting insulin doses during exercise in order to maximize the benefits and safety of exercise in children with T1DM by preventing hypoglycemia during and following exercise."
   ]
  },
  {
   "cell_type": "code",
   "execution_count": 597,
   "metadata": {},
   "outputs": [
    {
     "name": "stdout",
     "output_type": "stream",
     "text": [
      "Populating the interactive namespace from numpy and matplotlib\n"
     ]
    },
    {
     "name": "stderr",
     "output_type": "stream",
     "text": [
      "/home/rashi/anaconda3/lib/python3.6/site-packages/IPython/core/magics/pylab.py:160: UserWarning: pylab import has clobbered these variables: ['mean', 'randint']\n",
      "`%matplotlib` prevents importing * from pylab and numpy\n",
      "  \"\\n`%matplotlib` prevents importing * from pylab and numpy\"\n"
     ]
    }
   ],
   "source": [
    "import csv\n",
    "import pandas as pd\n",
    "import numpy as np\n",
    "from sklearn.ensemble import RandomForestClassifier\n",
    "from sklearn.metrics import confusion_matrix, roc_auc_score, f1_score, roc_curve, precision_recall_curve, auc  \n",
    "from sklearn.externals import joblib\n",
    "import matplotlib.pyplot as plt\n",
    "import datetime\n",
    "from random import randint\n",
    "%pylab inline\n"
   ]
  },
  {
   "cell_type": "code",
   "execution_count": 598,
   "metadata": {},
   "outputs": [
    {
     "data": {
      "text/html": [
       "<div>\n",
       "<style>\n",
       "    .dataframe thead tr:only-child th {\n",
       "        text-align: right;\n",
       "    }\n",
       "\n",
       "    .dataframe thead th {\n",
       "        text-align: left;\n",
       "    }\n",
       "\n",
       "    .dataframe tbody tr th {\n",
       "        vertical-align: top;\n",
       "    }\n",
       "</style>\n",
       "<table border=\"1\" class=\"dataframe\">\n",
       "  <thead>\n",
       "    <tr style=\"text-align: right;\">\n",
       "      <th></th>\n",
       "      <th>PtID</th>\n",
       "      <th>GVisitType</th>\n",
       "      <th>ReadingDt</th>\n",
       "      <th>ReadingTm</th>\n",
       "      <th>MeterBG</th>\n",
       "      <th>SensorGLU</th>\n",
       "      <th>Diff</th>\n",
       "    </tr>\n",
       "  </thead>\n",
       "  <tbody>\n",
       "    <tr>\n",
       "      <th>14955</th>\n",
       "      <td>52</td>\n",
       "      <td>Basal stopped</td>\n",
       "      <td>2000-01-18</td>\n",
       "      <td>18:15</td>\n",
       "      <td>NaN</td>\n",
       "      <td>117</td>\n",
       "      <td>NaN</td>\n",
       "    </tr>\n",
       "    <tr>\n",
       "      <th>14956</th>\n",
       "      <td>52</td>\n",
       "      <td>Basal stopped</td>\n",
       "      <td>2000-01-18</td>\n",
       "      <td>18:20</td>\n",
       "      <td>NaN</td>\n",
       "      <td>117</td>\n",
       "      <td>NaN</td>\n",
       "    </tr>\n",
       "    <tr>\n",
       "      <th>14957</th>\n",
       "      <td>52</td>\n",
       "      <td>Basal stopped</td>\n",
       "      <td>2000-01-18</td>\n",
       "      <td>18:25</td>\n",
       "      <td>NaN</td>\n",
       "      <td>119</td>\n",
       "      <td>NaN</td>\n",
       "    </tr>\n",
       "    <tr>\n",
       "      <th>14958</th>\n",
       "      <td>52</td>\n",
       "      <td>Basal stopped</td>\n",
       "      <td>2000-01-18</td>\n",
       "      <td>18:30</td>\n",
       "      <td>NaN</td>\n",
       "      <td>125</td>\n",
       "      <td>NaN</td>\n",
       "    </tr>\n",
       "    <tr>\n",
       "      <th>14959</th>\n",
       "      <td>52</td>\n",
       "      <td>Basal stopped</td>\n",
       "      <td>2000-01-18</td>\n",
       "      <td>18:35</td>\n",
       "      <td>NaN</td>\n",
       "      <td>134</td>\n",
       "      <td>NaN</td>\n",
       "    </tr>\n",
       "  </tbody>\n",
       "</table>\n",
       "</div>"
      ],
      "text/plain": [
       "0     PtID     GVisitType   ReadingDt ReadingTm  MeterBG  SensorGLU  Diff\n",
       "14955   52  Basal stopped  2000-01-18     18:15      NaN        117   NaN\n",
       "14956   52  Basal stopped  2000-01-18     18:20      NaN        117   NaN\n",
       "14957   52  Basal stopped  2000-01-18     18:25      NaN        119   NaN\n",
       "14958   52  Basal stopped  2000-01-18     18:30      NaN        125   NaN\n",
       "14959   52  Basal stopped  2000-01-18     18:35      NaN        134   NaN"
      ]
     },
     "execution_count": 598,
     "metadata": {},
     "output_type": "execute_result"
    }
   ],
   "source": [
    "df_cgms = pd.read_csv('data/DataTables/tblGDataCGMS.csv', sep=',', header=None)\n",
    "df_cgms.columns = df_cgms.iloc[0]\n",
    "# Use first row info as header\n",
    "df_cgms.drop(df_cgms.index[0], inplace=True)\n",
    "# Drop first row\n",
    "\n",
    "#df_cgms['ReadingTm'] = pd.to_datetime(df_cgms['ReadingTm']).dt.strftime('%H:%M')\n",
    "# To get rid of some PM inputs\n",
    "df_cgms['ReadingTm'] = pd.to_datetime(df_cgms['ReadingTm']).dt.round('5min').dt.strftime('%H:%M')\n",
    "# rounding time to every 5 min for convenience!\n",
    "df_cgms['ReadingDt'] = pd.to_datetime(df_cgms['ReadingDt']).dt.date\n",
    "\n",
    "df_cgms['SensorGLU'] = pd.to_numeric(df_cgms['SensorGLU'])\n",
    "df_cgms['MeterBG'] = pd.to_numeric(df_cgms['MeterBG'])\n",
    "df_cgms['Diff'] = df_cgms['SensorGLU'] - df_cgms['MeterBG']\n",
    "df_cgms['Diff'] = df_cgms['Diff'].abs()\n",
    "\n",
    "df_cgms = df_cgms.drop('RecID', axis=1)\n",
    "# drop unnecessary columns\n",
    "\n",
    "#df_cgms.set_index('ReadingTm', inplace=True)\n",
    "df_cgms.tail()\n",
    "#gpd_cgms = df_cgms.groupby(['PtID', 'ReadingDt'])\n",
    "#gpd_cgms.head()"
   ]
  },
  {
   "cell_type": "code",
   "execution_count": 640,
   "metadata": {},
   "outputs": [
    {
     "data": {
      "image/png": "[encoded data removed]",
      "text/plain": [
       "<matplotlib.figure.Figure at 0x7fd5c4ce9240>"
      ]
     },
     "metadata": {},
     "output_type": "display_data"
    }
   ],
   "source": [
    "df_basal = df_cgms#[df_cgms['GVisitType'] == \"Basal continued\"]\n",
    "\n",
    "df1 = df_basal[df_basal['PtID'] == '35']\n",
    "df2 = df_basal[df_basal['PtID'] == '3']\n",
    "df3 = df_basal[df_basal['PtID'] == '10']\n",
    "#df_4 = df_4[df_4['GVisitType'] == 'Basal continued']\n",
    "\n",
    "ax = df1.plot(x=\"ReadingTm\",y=\"SensorGLU\",style='r.')\n",
    "df1.plot(x=\"ReadingTm\",y=\"MeterBG\",style='r*',markersize=15,ax=ax)\n",
    "\n",
    "df2.plot(x=\"ReadingTm\",y=\"SensorGLU\",style='b.',ax=ax)\n",
    "df2.plot(x=\"ReadingTm\",y=\"MeterBG\",style='b*',markersize=15,ax=ax)\n",
    "\n",
    "df3.plot(x=\"ReadingTm\",y=\"SensorGLU\",style='g.',ax=ax)\n",
    "df3.plot(x=\"ReadingTm\",y=\"MeterBG\",style='g*',markersize=15,ax=ax)\n",
    "\n",
    "ax.set_title(\"Manual vs Automated Readings\", fontsize=16)\n",
    "ax.set_xlabel(\"Time\", fontsize=15)\n",
    "ax.set_ylabel(\"Blood Glucose (mg/dL)\", fontsize=15)\n",
    "ax.legend_.remove()\n",
    "plt.savefig('ManVsAuto.png')"
   ]
  },
  {
   "cell_type": "code",
   "execution_count": 639,
   "metadata": {},
   "outputs": [
    {
     "data": {
      "image/png": "[encoded data removed]",
      "text/plain": [
       "<matplotlib.figure.Figure at 0x7fd5c46b1f60>"
      ]
     },
     "metadata": {},
     "output_type": "display_data"
    }
   ],
   "source": [
    "ax = df_cgms[\"Diff\"].plot.hist(bins=50, normed=True)\n",
    "ax.set_title(\"Discrepancies between Manual & Automated Readings\", fontsize=14)\n",
    "ax.set_ylabel(\"Normalized Frequency\", fontsize=16)\n",
    "ax.set_xlabel(r\"$\\Delta$ Blood Glucose (mg/dL)\", fontsize=16)\n",
    "plt.savefig('hist_discrepancies.png')"
   ]
  },
  {
   "cell_type": "code",
   "execution_count": 649,
   "metadata": {},
   "outputs": [
    {
     "data": {
      "image/png": "[encoded data removed]",
      "text/plain": [
       "<matplotlib.figure.Figure at 0x7fd5c5b6d4a8>"
      ]
     },
     "metadata": {},
     "output_type": "display_data"
    }
   ],
   "source": [
    "df_dropna = df_cgms.dropna(subset = ['MeterBG'])\n",
    "df_dropna.plot(x=\"MeterBG\",y=\"SensorGLU\",style='r.')\n",
    "title(\"Relation between Manual & Automated Readings\", fontsize=14)\n",
    "ylabel(\"Automated Sensor Reading (mg/dL)\", fontsize=13)\n",
    "xlabel(\"Manual Calibration Reading (mg/dL)\", fontsize=13)\n",
    "plt.savefig('auto_vs_manual.png')"
   ]
  },
  {
   "cell_type": "code",
   "execution_count": 601,
   "metadata": {},
   "outputs": [
    {
     "data": {
      "text/html": [
       "<div>\n",
       "<style>\n",
       "    .dataframe thead tr:only-child th {\n",
       "        text-align: right;\n",
       "    }\n",
       "\n",
       "    .dataframe thead th {\n",
       "        text-align: left;\n",
       "    }\n",
       "\n",
       "    .dataframe tbody tr th {\n",
       "        vertical-align: top;\n",
       "    }\n",
       "</style>\n",
       "<table border=\"1\" class=\"dataframe\">\n",
       "  <thead>\n",
       "    <tr style=\"text-align: right;\">\n",
       "      <th></th>\n",
       "      <th>PtID</th>\n",
       "      <th>GVisitType</th>\n",
       "      <th>GFreeSampleType</th>\n",
       "      <th>ReadingValue</th>\n",
       "      <th>ReadingDt</th>\n",
       "      <th>ReadingTm</th>\n",
       "    </tr>\n",
       "  </thead>\n",
       "  <tbody>\n",
       "    <tr>\n",
       "      <th>1</th>\n",
       "      <td>14</td>\n",
       "      <td>Basal continued</td>\n",
       "      <td>Additional</td>\n",
       "      <td>73</td>\n",
       "      <td>2000-01-01</td>\n",
       "      <td>11:15</td>\n",
       "    </tr>\n",
       "    <tr>\n",
       "      <th>2</th>\n",
       "      <td>14</td>\n",
       "      <td>Basal continued</td>\n",
       "      <td>Additional</td>\n",
       "      <td>75</td>\n",
       "      <td>2000-01-01</td>\n",
       "      <td>11:30</td>\n",
       "    </tr>\n",
       "    <tr>\n",
       "      <th>3</th>\n",
       "      <td>14</td>\n",
       "      <td>Basal continued</td>\n",
       "      <td>Additional</td>\n",
       "      <td>75</td>\n",
       "      <td>2000-01-01</td>\n",
       "      <td>12:20</td>\n",
       "    </tr>\n",
       "    <tr>\n",
       "      <th>4</th>\n",
       "      <td>14</td>\n",
       "      <td>Basal continued</td>\n",
       "      <td>1PM</td>\n",
       "      <td>68</td>\n",
       "      <td>2000-01-01</td>\n",
       "      <td>13:00</td>\n",
       "    </tr>\n",
       "    <tr>\n",
       "      <th>5</th>\n",
       "      <td>14</td>\n",
       "      <td>Basal continued</td>\n",
       "      <td>2PM</td>\n",
       "      <td>48</td>\n",
       "      <td>2000-01-01</td>\n",
       "      <td>14:00</td>\n",
       "    </tr>\n",
       "  </tbody>\n",
       "</table>\n",
       "</div>"
      ],
      "text/plain": [
       "0  PtID       GVisitType GFreeSampleType  ReadingValue   ReadingDt ReadingTm\n",
       "1    14  Basal continued      Additional            73  2000-01-01     11:15\n",
       "2    14  Basal continued      Additional            75  2000-01-01     11:30\n",
       "3    14  Basal continued      Additional            75  2000-01-01     12:20\n",
       "4    14  Basal continued             1PM            68  2000-01-01     13:00\n",
       "5    14  Basal continued             2PM            48  2000-01-01     14:00"
      ]
     },
     "execution_count": 601,
     "metadata": {},
     "output_type": "execute_result"
    }
   ],
   "source": [
    "df_free = pd.read_csv('data/DataTables/tblGDataFreestyle.csv', sep=',', header=None)\n",
    "df_free.columns = df_free.iloc[0]\n",
    "# Use first row info as header\n",
    "df_free.drop(df_free.index[0], inplace=True)\n",
    "# Drop first row\n",
    "\n",
    "df_free['ReadingDtTm'] = pd.to_datetime(df_free['ReadingDtTm']).dt.round('5min')\n",
    "# rounding time to every 5 min, corresponding with CGMS data\n",
    "df_free['ReadingDt'] = df_free['ReadingDtTm'].dt.date\n",
    "df_free['ReadingTm'] = df_free['ReadingDtTm'].dt.strftime('%H:%M')\n",
    "# separating out dates and types into\n",
    " \n",
    "df_free['PtID'] = pd.to_numeric(df_free['PtID'])\n",
    "df_free['ReadingValue'] = pd.to_numeric(df_free['ReadingValue'])\n",
    "\n",
    "df_free = df_free.drop(['RecID','ReadingDtTm','BGType','ReadingType'], axis=1)\n",
    "# drop unnecessary columns\n",
    "\n",
    "df_free = df_free.dropna()\n",
    "# drop rows with any column having NA/null data\n",
    "\n",
    "#df_free = df_free[df_free['GVisitType'] == \"Basal stopped\"]\n",
    "# NOTE: ONLY USE BASAL STOPPED ONES FOR NOW\n",
    "\n",
    "#df_free = df_free[df_free['GFreeSampleType'] == \"ExEnd\"]\n",
    "\n",
    "#df_free = df_free.groupby(['PtID', 'ReadingDtTm', 'GFreeSampleType'])\n",
    "df_free.head()"
   ]
  },
  {
   "cell_type": "code",
   "execution_count": 602,
   "metadata": {},
   "outputs": [
    {
     "data": {
      "text/html": [
       "<div>\n",
       "<style>\n",
       "    .dataframe thead tr:only-child th {\n",
       "        text-align: right;\n",
       "    }\n",
       "\n",
       "    .dataframe thead th {\n",
       "        text-align: left;\n",
       "    }\n",
       "\n",
       "    .dataframe tbody tr th {\n",
       "        vertical-align: top;\n",
       "    }\n",
       "</style>\n",
       "<table border=\"1\" class=\"dataframe\">\n",
       "  <thead>\n",
       "    <tr style=\"text-align: right;\">\n",
       "      <th></th>\n",
       "      <th>PtID</th>\n",
       "      <th>BedtimeSnack</th>\n",
       "      <th>GmCarbs</th>\n",
       "      <th>TxHypo</th>\n",
       "      <th>Dinner</th>\n",
       "      <th>ReadingDt</th>\n",
       "      <th>ReadingTm</th>\n",
       "    </tr>\n",
       "  </thead>\n",
       "  <tbody>\n",
       "    <tr>\n",
       "      <th>1</th>\n",
       "      <td>3</td>\n",
       "      <td>0</td>\n",
       "      <td>57.0</td>\n",
       "      <td>0</td>\n",
       "      <td>1</td>\n",
       "      <td>2000-04-02</td>\n",
       "      <td>18:05</td>\n",
       "    </tr>\n",
       "    <tr>\n",
       "      <th>2</th>\n",
       "      <td>3</td>\n",
       "      <td>0</td>\n",
       "      <td>57.0</td>\n",
       "      <td>0</td>\n",
       "      <td>1</td>\n",
       "      <td>2000-04-18</td>\n",
       "      <td>18:10</td>\n",
       "    </tr>\n",
       "    <tr>\n",
       "      <th>3</th>\n",
       "      <td>3</td>\n",
       "      <td>0</td>\n",
       "      <td>15.0</td>\n",
       "      <td>0</td>\n",
       "      <td>0</td>\n",
       "      <td>2000-04-02</td>\n",
       "      <td>17:50</td>\n",
       "    </tr>\n",
       "    <tr>\n",
       "      <th>4</th>\n",
       "      <td>3</td>\n",
       "      <td>1</td>\n",
       "      <td>NaN</td>\n",
       "      <td>0</td>\n",
       "      <td>0</td>\n",
       "      <td>2000-04-02</td>\n",
       "      <td>21:20</td>\n",
       "    </tr>\n",
       "    <tr>\n",
       "      <th>5</th>\n",
       "      <td>3</td>\n",
       "      <td>0</td>\n",
       "      <td>12.0</td>\n",
       "      <td>1</td>\n",
       "      <td>0</td>\n",
       "      <td>2000-04-03</td>\n",
       "      <td>00:10</td>\n",
       "    </tr>\n",
       "  </tbody>\n",
       "</table>\n",
       "</div>"
      ],
      "text/plain": [
       "0  PtID  BedtimeSnack  GmCarbs  TxHypo  Dinner   ReadingDt ReadingTm\n",
       "1     3             0     57.0       0       1  2000-04-02     18:05\n",
       "2     3             0     57.0       0       1  2000-04-18     18:10\n",
       "3     3             0     15.0       0       0  2000-04-02     17:50\n",
       "4     3             1      NaN       0       0  2000-04-02     21:20\n",
       "5     3             0     12.0       1       0  2000-04-03     00:10"
      ]
     },
     "execution_count": 602,
     "metadata": {},
     "output_type": "execute_result"
    }
   ],
   "source": [
    "df_snack = pd.read_csv('data/DataTables/tblGSnackData.csv', sep=',', header=None)\n",
    "df_snack.columns = df_snack.iloc[0]\n",
    "# Use first row info as header\n",
    "df_snack.drop(df_snack.index[0], inplace=True)\n",
    "# Drop first row\n",
    "\n",
    "df_snack = df_snack.replace({'True':1,'False':0})\n",
    "\n",
    "df_snack['CarbDtTm'] = pd.to_datetime(df_snack['CarbDtTm']).dt.round('5min')\n",
    "# rounding time to every 5 min, corresponding with CGMS data\n",
    "df_snack['ReadingDt'] = df_snack['CarbDtTm'].dt.date\n",
    "df_snack['ReadingTm'] = df_snack['CarbDtTm'].dt.strftime('%H:%M')\n",
    "# separating out dates and types into separate columns\n",
    "\n",
    "df_snack['PtID'] = pd.to_numeric(df_snack['PtID'])\n",
    "df_snack['GmCarbs'] = pd.to_numeric(df_snack['GmCarbs'])\n",
    "\n",
    "df_snack = df_snack.drop(['RecID','CarbDtTm','GSnackSource'], axis=1)\n",
    "# drop unnecessary columns\n",
    "df_snack.head()"
   ]
  },
  {
   "cell_type": "code",
   "execution_count": 603,
   "metadata": {},
   "outputs": [
    {
     "name": "stdout",
     "output_type": "stream",
     "text": [
      "[ 2  3  4  5  6  7  8  9 10 11 12 13 14 15 16 17 18 19 20 21 22 23 24 25 26\n",
      " 27 28 29 30 31 32 33 34 35 36 37 38 39 40 41 42 43 44 45 46 47 48 49 51 52\n",
      " 53 54 55 56 57] 55\n",
      "39\n",
      "[ 2  3  4  5  6  7  8  9 10 11 12 13 14 15 16 17 18 19 20 21 22 23 24 25 26\n",
      " 27 28 29 30 31 32 33 34 35 36 37 38 39 40 41 42 43 44 45 46 47 48 49 51 52\n",
      " 53 54 55 56 57] 55\n",
      "[ 3  4  5  6  7  8  9 10 11 12 13 14 15 17 18 19 20 21 22 23 24 25 26 27 28\n",
      " 29 30 31 32 33 34 35 36 37 38 39 40 41 42 43 44 45 46 47 48 49 51 52 53 54\n",
      " 55 56 57] 53\n"
     ]
    }
   ],
   "source": [
    "# Printing out unique patients in each dataset\n",
    "\n",
    "patients_cgms = np.sort(np.unique(df_cgms['PtID'].astype(int)))\n",
    "print(patients_cgms, len(patients_cgms))\n",
    "\n",
    "patient = patients_cgms[randint(0, len(patients_cgms))]\n",
    "print(patient)\n",
    "\n",
    "patients_free = np.sort(np.unique(df_free['PtID'].astype(int)))\n",
    "print(patients_free, len(patients_free))\n",
    "\n",
    "patients_snack = np.sort(np.unique(df_snack['PtID'].astype(int)))\n",
    "print(patients_snack, len(patients_snack))"
   ]
  },
  {
   "cell_type": "code",
   "execution_count": 604,
   "metadata": {},
   "outputs": [
    {
     "name": "stdout",
     "output_type": "stream",
     "text": [
      "86\n"
     ]
    },
    {
     "data": {
      "text/html": [
       "<div>\n",
       "<style>\n",
       "    .dataframe thead tr:only-child th {\n",
       "        text-align: right;\n",
       "    }\n",
       "\n",
       "    .dataframe thead th {\n",
       "        text-align: left;\n",
       "    }\n",
       "\n",
       "    .dataframe tbody tr th {\n",
       "        vertical-align: top;\n",
       "    }\n",
       "</style>\n",
       "<table border=\"1\" class=\"dataframe\">\n",
       "  <thead>\n",
       "    <tr style=\"text-align: right;\">\n",
       "      <th></th>\n",
       "      <th>PtID</th>\n",
       "      <th>GVisitType</th>\n",
       "      <th>ReadingDt</th>\n",
       "      <th>ReadingTm</th>\n",
       "      <th>MeterBG</th>\n",
       "      <th>SensorGLU</th>\n",
       "      <th>Diff</th>\n",
       "      <th>ExBG</th>\n",
       "      <th>ExStat</th>\n",
       "      <th>Episode</th>\n",
       "    </tr>\n",
       "  </thead>\n",
       "  <tbody>\n",
       "    <tr>\n",
       "      <th>1</th>\n",
       "      <td>26</td>\n",
       "      <td>Basal stopped</td>\n",
       "      <td>2000-02-26</td>\n",
       "      <td>11:55</td>\n",
       "      <td>NaN</td>\n",
       "      <td>146</td>\n",
       "      <td>NaN</td>\n",
       "      <td>146</td>\n",
       "      <td>0</td>\n",
       "      <td>0</td>\n",
       "    </tr>\n",
       "    <tr>\n",
       "      <th>2</th>\n",
       "      <td>26</td>\n",
       "      <td>Basal stopped</td>\n",
       "      <td>2000-02-26</td>\n",
       "      <td>12:00</td>\n",
       "      <td>NaN</td>\n",
       "      <td>144</td>\n",
       "      <td>NaN</td>\n",
       "      <td>117</td>\n",
       "      <td>1</td>\n",
       "      <td>0</td>\n",
       "    </tr>\n",
       "    <tr>\n",
       "      <th>3</th>\n",
       "      <td>26</td>\n",
       "      <td>Basal stopped</td>\n",
       "      <td>2000-02-26</td>\n",
       "      <td>12:05</td>\n",
       "      <td>117.0</td>\n",
       "      <td>147</td>\n",
       "      <td>30.0</td>\n",
       "      <td>147</td>\n",
       "      <td>0</td>\n",
       "      <td>0</td>\n",
       "    </tr>\n",
       "    <tr>\n",
       "      <th>4</th>\n",
       "      <td>26</td>\n",
       "      <td>Basal stopped</td>\n",
       "      <td>2000-02-26</td>\n",
       "      <td>12:10</td>\n",
       "      <td>NaN</td>\n",
       "      <td>145</td>\n",
       "      <td>NaN</td>\n",
       "      <td>145</td>\n",
       "      <td>0</td>\n",
       "      <td>0</td>\n",
       "    </tr>\n",
       "    <tr>\n",
       "      <th>5</th>\n",
       "      <td>26</td>\n",
       "      <td>Basal stopped</td>\n",
       "      <td>2000-02-26</td>\n",
       "      <td>12:15</td>\n",
       "      <td>NaN</td>\n",
       "      <td>144</td>\n",
       "      <td>NaN</td>\n",
       "      <td>144</td>\n",
       "      <td>0</td>\n",
       "      <td>0</td>\n",
       "    </tr>\n",
       "  </tbody>\n",
       "</table>\n",
       "</div>"
      ],
      "text/plain": [
       "0 PtID     GVisitType   ReadingDt ReadingTm  MeterBG  SensorGLU  Diff  ExBG  \\\n",
       "1   26  Basal stopped  2000-02-26     11:55      NaN        146   NaN   146   \n",
       "2   26  Basal stopped  2000-02-26     12:00      NaN        144   NaN   117   \n",
       "3   26  Basal stopped  2000-02-26     12:05    117.0        147  30.0   147   \n",
       "4   26  Basal stopped  2000-02-26     12:10      NaN        145   NaN   145   \n",
       "5   26  Basal stopped  2000-02-26     12:15      NaN        144   NaN   144   \n",
       "\n",
       "0  ExStat  Episode  \n",
       "1       0        0  \n",
       "2       1        0  \n",
       "3       0        0  \n",
       "4       0        0  \n",
       "5       0        0  "
      ]
     },
     "execution_count": 604,
     "metadata": {},
     "output_type": "execute_result"
    }
   ],
   "source": [
    "# COMBINING CGMS, EXERCISE AND SNACK DATASETS, PATIENT-WISE:\n",
    "# PIP PIP! GET ON WITH IT!\n",
    "bg = []; status = []; hypo = []\n",
    "for i in range(df_cgms.shape[0]):\n",
    "# looping through rows of df_cgms\n",
    "    patient = pd.to_numeric(df_cgms['PtID'].iloc[i])\n",
    "    date = df_cgms['ReadingDt'].iloc[i]\n",
    "    time = df_cgms['ReadingTm'].iloc[i]\n",
    "# make sure type(patient), type(date) and type(time) match with df_free column types!\n",
    " \n",
    "    mask_free = (df_free['PtID'] == patient) & (df_free['ReadingDt']==date) & (df_free['ReadingTm']==time)\n",
    "    matches = df_free['ReadingValue'].loc[mask_free].values#[0]\n",
    "    if(len(matches) != 0):\n",
    "      ex_bg = matches[0]\n",
    "      ex_status = 1\n",
    "    else:\n",
    "      ex_bg = df_cgms['SensorGLU'].iloc[i]\n",
    "      ex_status = 0\n",
    "    bg.append(ex_bg)\n",
    "    status.append(ex_status)\n",
    "    \n",
    "    mask_snack = (df_snack['PtID'] == patient) & (df_snack['ReadingDt']==date) & (df_snack['ReadingTm']==time)\n",
    "    matches = df_snack['TxHypo'].loc[mask_snack].values\n",
    "    if(len(matches) != 0):\n",
    "      hypo_status = matches[0]\n",
    "    else:\n",
    "      hypo_status = 0\n",
    "    hypo.append(hypo_status)\n",
    "df_cgms['ExBG'] = bg\n",
    "df_cgms['ExStat'] = status\n",
    "df_cgms['Episode'] = hypo\n",
    "print(len(df_cgms[df_cgms['Episode'] == 1]))\n",
    "\n",
    "df_cgms.to_csv('data/DataTables/modified_cgms.csv', sep=',')\n",
    "# Save modified dataframe to csv file\n",
    "df_cgms.head()"
   ]
  },
  {
   "cell_type": "code",
   "execution_count": 605,
   "metadata": {},
   "outputs": [
    {
     "data": {
      "text/html": [
       "<div>\n",
       "<style>\n",
       "    .dataframe thead tr:only-child th {\n",
       "        text-align: right;\n",
       "    }\n",
       "\n",
       "    .dataframe thead th {\n",
       "        text-align: left;\n",
       "    }\n",
       "\n",
       "    .dataframe tbody tr th {\n",
       "        vertical-align: top;\n",
       "    }\n",
       "</style>\n",
       "<table border=\"1\" class=\"dataframe\">\n",
       "  <thead>\n",
       "    <tr style=\"text-align: right;\">\n",
       "      <th></th>\n",
       "      <th>nan</th>\n",
       "      <th>PtID</th>\n",
       "      <th>GVisitType</th>\n",
       "      <th>ReadingDt</th>\n",
       "      <th>ReadingTm</th>\n",
       "      <th>MeterBG</th>\n",
       "      <th>SensorGLU</th>\n",
       "      <th>Diff</th>\n",
       "      <th>ExBG</th>\n",
       "      <th>ExStat</th>\n",
       "      <th>Episode</th>\n",
       "    </tr>\n",
       "  </thead>\n",
       "  <tbody>\n",
       "    <tr>\n",
       "      <th>1</th>\n",
       "      <td>1.0</td>\n",
       "      <td>26</td>\n",
       "      <td>Basal stopped</td>\n",
       "      <td>2000-02-26</td>\n",
       "      <td>11:55</td>\n",
       "      <td>NaN</td>\n",
       "      <td>146</td>\n",
       "      <td>NaN</td>\n",
       "      <td>146</td>\n",
       "      <td>0</td>\n",
       "      <td>0</td>\n",
       "    </tr>\n",
       "    <tr>\n",
       "      <th>2</th>\n",
       "      <td>2.0</td>\n",
       "      <td>26</td>\n",
       "      <td>Basal stopped</td>\n",
       "      <td>2000-02-26</td>\n",
       "      <td>12:00</td>\n",
       "      <td>NaN</td>\n",
       "      <td>144</td>\n",
       "      <td>NaN</td>\n",
       "      <td>117</td>\n",
       "      <td>1</td>\n",
       "      <td>0</td>\n",
       "    </tr>\n",
       "    <tr>\n",
       "      <th>3</th>\n",
       "      <td>3.0</td>\n",
       "      <td>26</td>\n",
       "      <td>Basal stopped</td>\n",
       "      <td>2000-02-26</td>\n",
       "      <td>12:05</td>\n",
       "      <td>117.0</td>\n",
       "      <td>147</td>\n",
       "      <td>30.0</td>\n",
       "      <td>147</td>\n",
       "      <td>0</td>\n",
       "      <td>0</td>\n",
       "    </tr>\n",
       "    <tr>\n",
       "      <th>4</th>\n",
       "      <td>4.0</td>\n",
       "      <td>26</td>\n",
       "      <td>Basal stopped</td>\n",
       "      <td>2000-02-26</td>\n",
       "      <td>12:10</td>\n",
       "      <td>NaN</td>\n",
       "      <td>145</td>\n",
       "      <td>NaN</td>\n",
       "      <td>145</td>\n",
       "      <td>0</td>\n",
       "      <td>0</td>\n",
       "    </tr>\n",
       "    <tr>\n",
       "      <th>5</th>\n",
       "      <td>5.0</td>\n",
       "      <td>26</td>\n",
       "      <td>Basal stopped</td>\n",
       "      <td>2000-02-26</td>\n",
       "      <td>12:15</td>\n",
       "      <td>NaN</td>\n",
       "      <td>144</td>\n",
       "      <td>NaN</td>\n",
       "      <td>144</td>\n",
       "      <td>0</td>\n",
       "      <td>0</td>\n",
       "    </tr>\n",
       "  </tbody>\n",
       "</table>\n",
       "</div>"
      ],
      "text/plain": [
       "0  NaN PtID     GVisitType   ReadingDt ReadingTm MeterBG SensorGLU  Diff ExBG  \\\n",
       "1  1.0   26  Basal stopped  2000-02-26     11:55     NaN       146   NaN  146   \n",
       "2  2.0   26  Basal stopped  2000-02-26     12:00     NaN       144   NaN  117   \n",
       "3  3.0   26  Basal stopped  2000-02-26     12:05   117.0       147  30.0  147   \n",
       "4  4.0   26  Basal stopped  2000-02-26     12:10     NaN       145   NaN  145   \n",
       "5  5.0   26  Basal stopped  2000-02-26     12:15     NaN       144   NaN  144   \n",
       "\n",
       "0 ExStat Episode  \n",
       "1      0       0  \n",
       "2      1       0  \n",
       "3      0       0  \n",
       "4      0       0  \n",
       "5      0       0  "
      ]
     },
     "execution_count": 605,
     "metadata": {},
     "output_type": "execute_result"
    }
   ],
   "source": [
    "# Checking if pandas can read saved csv properly\n",
    "df_saved = pd.read_csv('data/DataTables/modified_cgms.csv', sep=',', header=None)\n",
    "# data table actually exists a directory above the views.py file\n",
    "df_saved.columns = df_saved.iloc[0]\n",
    "# Use first row info as header\n",
    "df_saved.drop(df_saved.index[0], inplace=True)\n",
    "# Drop first row\n",
    "df_saved.head()\n",
    "#print(\"hi\", df_saved.columns)"
   ]
  },
  {
   "cell_type": "code",
   "execution_count": 606,
   "metadata": {},
   "outputs": [],
   "source": [
    "from pandas import DataFrame\n",
    "from pandas import concat\n",
    " \n",
    "def series_to_supervised(data, n_in=1, n_out=1, dropnan=True):\n",
    "    \"\"\"\n",
    "    Frame a time series as a supervised learning dataset.\n",
    "    Arguments:\n",
    "        data: Sequence of observations as a list or NumPy array.\n",
    "        n_in: Number of lag observations as input (X).\n",
    "        n_out: Number of observations as output (y).\n",
    "        dropnan: Boolean whether or not to drop rows with NaN values.\n",
    "    Returns:\n",
    "        Pandas DataFrame of series framed for supervised learning.\n",
    "    \"\"\"\n",
    "    n_vars = 1 if type(data) is list else data.shape[1]\n",
    "    df = DataFrame(data)\n",
    "    cols, names = list(), list()\n",
    "    # input sequence (t-n, ... t-1)\n",
    "    for i in range(n_in, 0, -1):\n",
    "        cols.append(df.shift(i))\n",
    "        names += [('var%d(t-%d)' % (j+1, i)) for j in range(n_vars)]\n",
    "    # forecast sequence (t, t+1, ... t+n)\n",
    "    for i in range(0, n_out):\n",
    "        cols.append(df.shift(-i))\n",
    "        if i == 0:\n",
    "            names += [('var%d(t)' % (j+1)) for j in range(n_vars)]\n",
    "        else:\n",
    "            names += [('var%d(t+%d)' % (j+1, i)) for j in range(n_vars)]\n",
    "    # put it all together\n",
    "    agg = concat(cols, axis=1)\n",
    "    agg.columns = names\n",
    "    # drop rows with NaN values\n",
    "    if dropnan:\n",
    "        agg.dropna(inplace=True)\n",
    "    return agg\n",
    "############################ End of series_to_supervised function ####################################\n",
    "\n",
    "x2= []; i = 52; \n",
    "patient_i = df_cgms[df_cgms['PtID'] == str(i)]\n",
    "##### including 2nd feature #####\n",
    "raw['ob1'] = list(patient_i['ExBG'])\n",
    "raw['ob2'] = list(patient_i['ExStat'])\n",
    "values2 = raw.values\n",
    "data = series_to_supervised(values2, len(patient_i)-2, 2)"
   ]
  },
  {
   "cell_type": "code",
   "execution_count": 607,
   "metadata": {},
   "outputs": [
    {
     "data": {
      "text/plain": [
       "\"\\n##### including 2nd feature #####\\n  raw['ob1'] = list(patient_i['ExBG'])\\n  raw['ob2'] = list(patient_i['ExStat'])\\n  values2 = raw.values\\n  data = series_to_supervised(values2, len(patient_i)-2, 2)\\n  x2.append(data)\\nprint(len(x), len(x2))    \\n\""
      ]
     },
     "execution_count": 607,
     "metadata": {},
     "output_type": "execute_result"
    }
   ],
   "source": [
    "#################################### Creating input x & y arrays ###################################\n",
    "max_rows = max(df_cgms['PtID'].value_counts())\n",
    "x = []; x2 = []\n",
    "for i in patients_cgms:\n",
    "  patient_i = df_cgms[df_cgms['PtID'] == str(i)]\n",
    "  values = list(patient_i['ExBG'])\n",
    "  data = series_to_supervised(values, len(patient_i)-1)\n",
    "  modified = data.values[0]\n",
    "    \n",
    "  if(len(modified) < max_rows):\n",
    "    col_diff = max_rows - len(modified)\n",
    "    for j in range(col_diff):\n",
    "      modified = np.append(modified,0)\n",
    "# input zeros for missing columns, to make all patients have same number of rows\n",
    "\n",
    "  x.append(modified)\n",
    "   \n",
    "#  x.append(data.as_matrix())\n",
    "'''\n",
    "##### including 2nd feature #####\n",
    "  raw['ob1'] = list(patient_i['ExBG'])\n",
    "  raw['ob2'] = list(patient_i['ExStat'])\n",
    "  values2 = raw.values\n",
    "  data = series_to_supervised(values2, len(patient_i)-2, 2)\n",
    "  x2.append(data)\n",
    "print(len(x), len(x2))    \n",
    "'''"
   ]
  },
  {
   "cell_type": "code",
   "execution_count": 608,
   "metadata": {},
   "outputs": [
    {
     "data": {
      "text/plain": [
       "(55, 1592)"
      ]
     },
     "execution_count": 608,
     "metadata": {},
     "output_type": "execute_result"
    }
   ],
   "source": [
    "x = np.array(x)\n",
    "np.shape(x)\n",
    "#print(len(x[0][0]), len(x[1][0]), len(x[2][0]))\n",
    "    "
   ]
  },
  {
   "cell_type": "code",
   "execution_count": 609,
   "metadata": {},
   "outputs": [
    {
     "data": {
      "text/plain": [
       "PtID\n",
       "3    0.125000\n",
       "4    0.333333\n",
       "5    0.000000\n",
       "6    0.250000\n",
       "7    0.000000\n",
       "Name: TxHypo, dtype: float64"
      ]
     },
     "execution_count": 609,
     "metadata": {},
     "output_type": "execute_result"
    }
   ],
   "source": [
    "# Regression Outcome as Mean number of hypoglycemic episodes\n",
    "df_snack_mean = df_snack.groupby('PtID').mean()\n",
    "hypo_out = df_snack_mean['TxHypo']\n",
    "hypo_out.head()"
   ]
  },
  {
   "cell_type": "code",
   "execution_count": 610,
   "metadata": {},
   "outputs": [
    {
     "name": "stdout",
     "output_type": "stream",
     "text": [
      "[ 1.  0.  0.  1.  1.  1.  0.  0.  1.  1.  0.  0.  1.  1.  0.  0.  1.  1.\n",
      "  1.  0.  1.  0.  1.  0.  0.  1.  1.  1.  0.  0.  1.  0.  1.  1.  1.  1.\n",
      "  1.  0.  1.  1.  0.  0.  0.  0.  0.  0.  1.  1.  1.  1.  1.  1.  0.  1.\n",
      "  1.]\n"
     ]
    }
   ],
   "source": [
    "df_cgms_mean = df_cgms.groupby('PtID').mean()\n",
    "mean = df_cgms_mean['Episode']\n",
    "y = mean\n",
    "y.iloc[y.nonzero()[0]] = 1\n",
    "# replacing non-zero values with 1\n",
    "y = y.as_matrix()\n",
    "print(y)"
   ]
  },
  {
   "cell_type": "code",
   "execution_count": 662,
   "metadata": {},
   "outputs": [
    {
     "name": "stdout",
     "output_type": "stream",
     "text": [
      "41 14 41 14\n"
     ]
    }
   ],
   "source": [
    "from sklearn.model_selection import train_test_split\n",
    "\n",
    "######################### Building Training and Testing Datasets ##############################\n",
    "x_train, x_test, y_train, y_test = train_test_split(x, y, test_size=0.25, random_state=42, stratify=y)\n",
    "#x_train = np.array(x_train); x_test = np.array(x_test);\n",
    "#y_train = np.array(y_train); y_test = np.array(y_test);\n",
    "\n",
    "print(len(x_train), len(x_test),len(y_train), len(y_test))"
   ]
  },
  {
   "cell_type": "code",
   "execution_count": 663,
   "metadata": {},
   "outputs": [
    {
     "data": {
      "text/plain": [
       "['model.pkl']"
      ]
     },
     "execution_count": 663,
     "metadata": {},
     "output_type": "execute_result"
    }
   ],
   "source": [
    "######################################### Training Forest ####################################################\n",
    "def train_rf(x_train, y_train, trees_rf, samples_rf):\n",
    "  model = RandomForestClassifier(min_samples_leaf=samples_rf, oob_score=True, n_estimators=trees_rf) #, warm_start=True, min_samples_split=1)\n",
    "  model.fit(x_train,y_train)\n",
    "  return model\n",
    "\n",
    "model = train_rf(x_train, y_train, 100, 5)\n",
    "joblib.dump(model,'model.pkl') "
   ]
  },
  {
   "cell_type": "code",
   "execution_count": 664,
   "metadata": {},
   "outputs": [],
   "source": [
    "########################################### Testing ####################################################\n",
    "def testing(x_test, model):\n",
    "  y_pred = model.predict(x_test)\n",
    "  prob = model.predict_proba(x_test) # To get confidence of the prediction\n",
    "  return np.array(y_pred), np.array(prob)\n",
    "\n",
    "y_pred, prob = testing(x_test, model)"
   ]
  },
  {
   "cell_type": "code",
   "execution_count": 665,
   "metadata": {
    "collapsed": true
   },
   "outputs": [],
   "source": [
    "####################################### Visualize model Predictions ###############################################\n",
    "def plot_confusion_matrix(cm, ylabel, xlabel):\n",
    "  plt.figure()\n",
    "  cmap = plt.cm.Blues\n",
    "  plt.imshow(cm, interpolation='nearest', cmap=cmap)\n",
    "  plt.title('Normalized Confusion Matrix', fontsize=16)\n",
    "  plt.colorbar()\n",
    "  for (i, j), z in np.ndenumerate(cm):\n",
    "    plt.text(j, i, '{:0.1f}'.format(z), ha='center', va='center')\n",
    "# write cm values on grid\n",
    "  tick_labels = ['normal', 'hypo']\n",
    "  tick_marks = np.arange(len(tick_labels))\n",
    "  plt.xticks(tick_marks, tick_labels, rotation=45)\n",
    "  plt.yticks(tick_marks, tick_labels)\n",
    "  plt.tight_layout()\n",
    "  plt.ylabel(ylabel, fontsize=16)\n",
    "  plt.xlabel(xlabel, fontsize=16)\n",
    "\n",
    "def plot_hist(prob_meta, prob_prec):\n",
    "  fig = plt.figure()\n",
    "  ax1 = fig.add_subplot(211)\n",
    "  ax2 = fig.add_subplot(212)\n",
    "\n",
    "  results, edges = np.histogram(prob_meta, bins=np.linspace(0,1,21,endpoint=True) , normed=True)\n",
    "  binWidth = edges[1] - edges[0]\n",
    "  ax1.bar(edges[:-1], results*binWidth, binWidth, facecolor='b', label = 'Normal')  \n",
    "\n",
    "  results, edges = np.histogram(prob_prec, bins=np.linspace(0,1,21,endpoint=True), normed=True)\n",
    "  binWidth = edges[1] - edges[0]\n",
    "  ax2.bar(edges[:-1], results*binWidth, binWidth, facecolor='r', label = 'Hypo')\n",
    "\n",
    "  ax1.set_xlim(0,1)\n",
    "  ax2.set_xlim(0,1)\n",
    "  ax1.set_ylim(0,1)\n",
    "  ax2.set_ylim(0,1)\n",
    "\n",
    "  plt.suptitle('Predicted Hypoglycemic Episode Probabilities', fontsize=15)\n",
    "  ax1.set_ylabel('Probability', fontsize=15)\n",
    "  ax2.set_ylabel('Probability', fontsize=15)\n",
    "  ax2.set_xlabel('Hypoglycemic Episode Prediction Probability', fontsize=15)\n",
    "  ax1.legend(loc='best', fontsize=20)\n",
    "  ax2.legend(loc='best', fontsize=20)\n",
    "  #plt.tight_layout()"
   ]
  },
  {
   "cell_type": "code",
   "execution_count": 666,
   "metadata": {},
   "outputs": [
    {
     "name": "stdout",
     "output_type": "stream",
     "text": [
      "correct predictions (0 in 0 & 1 in 1): 50.0\n",
      "mean probabilities = for 0: 0.44 & for 1: 0.56\n",
      "Confusion Matrix true_pred:\n",
      " [[1 5]\n",
      " [2 6]]\n",
      "oob_score 0.46\n"
     ]
    },
    {
     "data": {
      "image/png": "[encoded data removed]",
      "text/plain": [
       "<matplotlib.figure.Figure at 0x7fd5c61ab128>"
      ]
     },
     "metadata": {},
     "output_type": "display_data"
    },
    {
     "data": {
      "image/png": "[encoded data removed]",
      "text/plain": [
       "<matplotlib.figure.Figure at 0x7fd5c4a825c0>"
      ]
     },
     "metadata": {},
     "output_type": "display_data"
    }
   ],
   "source": [
    "################################################# Prediction & Performance ################################################# \n",
    "def prediction(x_test, y_test, y_pred, prob, model):\n",
    "  cm_true_pred = confusion_matrix(y_test, y_pred, labels = [0, 1])\n",
    "  ncm_true_pred = cm_true_pred.astype('float') / cm_true_pred.sum(axis=1)[:, np.newaxis]\n",
    "# Normalize the confusion matrix by row (i.e by the number of samples in each class)\n",
    "\n",
    "  print(\"correct predictions (0 in 0 & 1 in 1):\", np.round((cm_true_pred[0][0]+cm_true_pred[1][1])*100.0/np.sum(cm_true_pred), 2))\n",
    "  print(\"mean probabilities = for 0:\", np.round(np.mean(prob[:,0]), 2), '& for 1:', np.round(np.mean(prob[:,1]), 2))\n",
    "  print(\"Confusion Matrix true_pred:\\n\", cm_true_pred)\n",
    "  plot_confusion_matrix(ncm_true_pred, 'True Label', 'Predicted Label')\n",
    "  plt.savefig('ncm.png')\n",
    "\n",
    "  print(\"oob_score\", np.round(model.oob_score_, 2))\n",
    "\n",
    "# plot 1D histogram of 1ursor probabilities in '0' and '1' regions:\n",
    "  prob_0 = prob[y_test == 0, 1]\n",
    "  prob_1 = prob[y_test == 1, 1]\n",
    "  plot_hist(prob_0, prob_1)\n",
    "  plt.savefig('hypo_prob.png')\n",
    "\n",
    "prediction(x_test, y_test, y_pred, prob, model)"
   ]
  },
  {
   "cell_type": "code",
   "execution_count": 667,
   "metadata": {},
   "outputs": [],
   "source": [
    "################# TESTING CONDITIONAL INPUT TO ELEMENT OF DATAFRAME ###############\n",
    "t1 = \"12:15\"\n",
    "t2 = \"13:00\"\n",
    "bg1 = 200\n",
    "bg2 = 150\n",
    "#t1 = pd.to_datetime(t1)\n",
    "#t1 = t1.strftime('%H:%M')\n",
    "df_new = df_cgms[df_cgms['PtID'] == '26']\n",
    "#df_new['ExBG'][df_new['ReadingTm'] == t1] = bg1\n",
    "#df_new['ExBG'][df_new['ReadingTm'] == t2] = bg2\n",
    "df_new = df_new.append({'PtID':'26', 'ReadingTm':t1, 'ExBG':bg1}, ignore_index=True)\n",
    "df_new = df_new.append({'PtID':'26','ReadingTm':t2, 'ExBG':bg2}, ignore_index=True)\n",
    "# NOTE: append adds new row if t1 & t2 don't exist; otherwise replaces them! Nice feature!!"
   ]
  },
  {
   "cell_type": "code",
   "execution_count": 617,
   "metadata": {},
   "outputs": [
    {
     "data": {
      "text/plain": [
       "1.0"
      ]
     },
     "execution_count": 617,
     "metadata": {},
     "output_type": "execute_result"
    }
   ],
   "source": [
    "x_check = x_test[0].reshape(1, -1) \n",
    "y_pred, prob = testing(x_check, model)\n",
    "y_pred[0]"
   ]
  },
  {
   "cell_type": "code",
   "execution_count": null,
   "metadata": {
    "collapsed": true
   },
   "outputs": [],
   "source": []
  }
 ],
 "metadata": {
  "kernelspec": {
   "display_name": "Python [conda env:anaconda3]",
   "language": "python",
   "name": "conda-env-anaconda3-py"
  },
  "language_info": {
   "codemirror_mode": {
    "name": "ipython",
    "version": 3
   },
   "file_extension": ".py",
   "mimetype": "text/x-python",
   "name": "python",
   "nbconvert_exporter": "python",
   "pygments_lexer": "ipython3",
   "version": "3.6.3"
  }
 },
 "nbformat": 4,
 "nbformat_minor": 2
}
