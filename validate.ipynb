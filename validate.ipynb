{
 "cells": [
  {
   "cell_type": "code",
   "execution_count": 1,
   "metadata": {},
   "outputs": [
    {
     "name": "stdout",
     "output_type": "stream",
     "text": [
      "Populating the interactive namespace from numpy and matplotlib\n"
     ]
    },
    {
     "name": "stderr",
     "output_type": "stream",
     "text": [
      "/home/rashi/anaconda3/lib/python3.6/site-packages/IPython/core/magics/pylab.py:160: UserWarning: pylab import has clobbered these variables: ['randint']\n",
      "`%matplotlib` prevents importing * from pylab and numpy\n",
      "  \"\\n`%matplotlib` prevents importing * from pylab and numpy\"\n"
     ]
    }
   ],
   "source": [
    "import csv\n",
    "import pandas as pd\n",
    "import numpy as np\n",
    "from sklearn.ensemble import RandomForestClassifier\n",
    "from sklearn.metrics import confusion_matrix, recall_score, precision_recall_curve, make_scorer\n",
    "from sklearn.externals import joblib\n",
    "import matplotlib.pyplot as plt\n",
    "import datetime\n",
    "from random import randint\n",
    "%pylab inline\n",
    "from sklearn.model_selection import RandomizedSearchCV, GridSearchCV"
   ]
  },
  {
   "cell_type": "code",
   "execution_count": 2,
   "metadata": {},
   "outputs": [
    {
     "name": "stdout",
     "output_type": "stream",
     "text": [
      "dict_keys(['bootstrap', 'class_weight', 'criterion', 'max_depth', 'max_features', 'max_leaf_nodes', 'min_impurity_decrease', 'min_impurity_split', 'min_samples_leaf', 'min_samples_split', 'min_weight_fraction_leaf', 'n_estimators', 'n_jobs', 'oob_score', 'random_state', 'verbose', 'warm_start'])\n"
     ]
    }
   ],
   "source": [
    "# get some data\n",
    "x_train = np.loadtxt('files/x_train.dat')\n",
    "y_train = np.loadtxt('files/y_train.dat')\n",
    "\n",
    "model = RandomForestClassifier()\n",
    "print(model.get_params().keys())"
   ]
  },
  {
   "cell_type": "code",
   "execution_count": 3,
   "metadata": {},
   "outputs": [],
   "source": [
    "#Custom scoring function:\n",
    "def my_recall(y_test, y_pred):\n",
    "# Function goes in here\n",
    "    return recall_score(y_test, y_pred, average=\"binary\")\n",
    "\n",
    "my_scorer = make_scorer(my_recall, greater_is_better=True,needs_proba=True)"
   ]
  },
  {
   "cell_type": "code",
   "execution_count": 4,
   "metadata": {
    "scrolled": true
   },
   "outputs": [
    {
     "name": "stdout",
     "output_type": "stream",
     "text": [
      "RandomizedSearchCV(cv=None, error_score='raise',\n",
      "          estimator=RandomForestClassifier(bootstrap=True, class_weight=None, criterion='gini',\n",
      "            max_depth=None, max_features='auto', max_leaf_nodes=None,\n",
      "            min_impurity_decrease=0.0, min_impurity_split=None,\n",
      "            min_samples_leaf=1, min_samples_split=2,\n",
      "            min_weight_fraction_leaf=0.0, n_estimators=10, n_jobs=1,\n",
      "            oob_score=False, random_state=None, verbose=0,\n",
      "            warm_start=False),\n",
      "          fit_params=None, iid=True, n_iter=100, n_jobs=1,\n",
      "          param_distributions={'n_estimators': array([ 10,  50,  90, 130, 170, 210, 250, 290, 330, 370, 410, 450, 490]), 'min_samples_leaf': array([2, 3, 4, 5, 6, 7, 8, 9]), 'warm_start': [True, False], 'max_depth': array([ 1,  3,  5,  7,  9, 11, 13, 15, 17, 19]), 'max_features': array([ 3,  4,  5,  6,  7,  8,  9, 10, 11])},\n",
      "          pre_dispatch='2*n_jobs', random_state=None, refit=True,\n",
      "          return_train_score='warn', scoring='recall', verbose=0)\n",
      "#### best recall: 0.56671899529\n",
      "#### best n_estimators: 50\n",
      "#### best min_sample_leaf: 2\n",
      "#### best warm_start: False\n",
      "#### best max_depth 7\n",
      "#### best max_features: 10\n"
     ]
    }
   ],
   "source": [
    "param_grid = {'n_estimators': np.arange(10,501,40), \n",
    "              'min_samples_leaf':np.arange(2,10), \n",
    "              'warm_start':[True, False],\n",
    "              'max_depth': np.arange(1,21,2),\n",
    "              'max_features': np.arange(3,x_train.shape[1])}\n",
    "\n",
    "rsearch = RandomizedSearchCV(estimator=model, param_distributions=param_grid, n_iter=100, scoring='recall')\n",
    "rsearch.fit(x_train, y_train)\n",
    "print(rsearch)\n",
    "# summarize the results of the random parameter search\n",
    "\n",
    "print(\"#### best recall:\", rsearch.best_score_)\n",
    "print(\"#### best n_estimators:\", rsearch.best_estimator_.n_estimators)\n",
    "print(\"#### best min_sample_leaf:\", rsearch.best_estimator_.min_samples_leaf)\n",
    "print(\"#### best warm_start:\", rsearch.best_estimator_.warm_start)\n",
    "print(\"#### best max_depth\", rsearch.best_estimator_.max_depth)\n",
    "print(\"#### best max_features:\", rsearch.best_estimator_.max_features)\n"
   ]
  },
  {
   "cell_type": "raw",
   "metadata": {},
   "source": [
    "param_grid = {'n_estimators': np.arange(10,200,10), \n",
    "              'min_samples_leaf':np.arange(2,10), \n",
    "              'warm_start':[True, False],\n",
    "              'max_depth': np.arange(1,10),\n",
    "              'max_features': np.arange(3,x_train.shape[1])}\n",
    "\n",
    "gsearch = GridSearchCV(estimator=model, param_grid=param_grid, scoring='recall')\n",
    "gsearch.fit(x_train, y_train)\n",
    "\n",
    "print(\"#### best recall:\", gsearch.best_score_)\n",
    "print(\"#### best n_estimators:\", gsearch.best_estimator_.n_estimators)\n",
    "print(\"#### best min_sample_leaf:\", gsearch.best_estimator_.min_samples_leaf)\n",
    "print(\"#### best warm_start:\", gsearch.best_estimator_.warm_start)\n",
    "print(\"#### best max_depth\", gsearch.best_estimator_.max_depth)\n",
    "print(\"#### best max_features:\", gsearch.best_estimator_.max_features)"
   ]
  },
  {
   "cell_type": "code",
   "execution_count": null,
   "metadata": {
    "collapsed": true
   },
   "outputs": [],
   "source": []
  }
 ],
 "metadata": {
  "kernelspec": {
   "display_name": "Python [conda env:anaconda3]",
   "language": "python",
   "name": "conda-env-anaconda3-py"
  },
  "language_info": {
   "codemirror_mode": {
    "name": "ipython",
    "version": 3
   },
   "file_extension": ".py",
   "mimetype": "text/x-python",
   "name": "python",
   "nbconvert_exporter": "python",
   "pygments_lexer": "ipython3",
   "version": "3.6.3"
  }
 },
 "nbformat": 4,
 "nbformat_minor": 2
}
