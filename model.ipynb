{
 "cells": [
  {
   "cell_type": "code",
   "execution_count": 1,
   "metadata": {},
   "outputs": [
    {
     "name": "stdout",
     "output_type": "stream",
     "text": [
      "Populating the interactive namespace from numpy and matplotlib\n"
     ]
    },
    {
     "name": "stderr",
     "output_type": "stream",
     "text": [
      "/home/rashi/anaconda3/lib/python3.6/site-packages/IPython/core/magics/pylab.py:160: UserWarning: pylab import has clobbered these variables: ['randint']\n",
      "`%matplotlib` prevents importing * from pylab and numpy\n",
      "  \"\\n`%matplotlib` prevents importing * from pylab and numpy\"\n"
     ]
    }
   ],
   "source": [
    "import csv\n",
    "import pandas as pd\n",
    "import numpy as np\n",
    "from sklearn.ensemble import RandomForestClassifier\n",
    "from sklearn.linear_model import LogisticRegression\n",
    "from sklearn.model_selection import cross_val_score\n",
    "from sklearn.metrics import confusion_matrix, precision_recall_curve, recall_score, f1_score, roc_auc_score, precision_score\n",
    "from sklearn.externals import joblib\n",
    "import matplotlib.pyplot as plt\n",
    "import datetime\n",
    "from random import randint\n",
    "%pylab inline"
   ]
  },
  {
   "cell_type": "code",
   "execution_count": 2,
   "metadata": {},
   "outputs": [
    {
     "data": {
      "text/plain": [
       "0\n",
       "PtID            int64\n",
       "Gender          int64\n",
       "Weight        float64\n",
       "Height        float64\n",
       "ReadingDt      object\n",
       "ExStat          int64\n",
       "BeforeEx        int64\n",
       "AfterEx         int64\n",
       "Episode         int64\n",
       "MeanSensor    float64\n",
       "MeanManual    float64\n",
       "StdSensor     float64\n",
       "StdManual     float64\n",
       "MeanDiff      float64\n",
       "StdDiff       float64\n",
       "Peaks           int64\n",
       "ExDiff          int64\n",
       "BMI           float64\n",
       "dtype: object"
      ]
     },
     "execution_count": 2,
     "metadata": {},
     "output_type": "execute_result"
    }
   ],
   "source": [
    "# Reading saved csv file\n",
    "df_feat = pd.read_csv('data/DataTables/features.csv', sep=',', header=None)\n",
    "# data table actually exists a directory above the views.py file\n",
    "df_feat.columns = df_feat.iloc[0]\n",
    "# Use first row info as header\n",
    "df_feat.drop(df_feat.index[0], inplace=True)\n",
    "# Drop first row\n",
    "df_feat.drop(df_feat.columns[[0]], axis=1, inplace=True)\n",
    "# removing the first column of NaNs that shows up from reading csv. Don't ask why. Sigh.\n",
    "\n",
    "cols = df_feat.columns.drop('ReadingDt')\n",
    "df_feat[cols] = df_feat[cols].apply(pd.to_numeric, errors='coerce')\n",
    "df_feat.dtypes"
   ]
  },
  {
   "cell_type": "code",
   "execution_count": 3,
   "metadata": {},
   "outputs": [
    {
     "name": "stdout",
     "output_type": "stream",
     "text": [
      "50 81\n"
     ]
    }
   ],
   "source": [
    "df = df_feat.dropna(axis=0, how='any')\n",
    "# drop NaN values\n",
    "\n",
    "patients = df['PtID'].as_matrix().astype(int)\n",
    "dates = df['ReadingDt'].as_matrix().astype(str)\n",
    "np.savetxt('files/patients.dat', patients, fmt=\"%d\")\n",
    "np.savetxt('files/dates.dat', dates, fmt=\"%s\")\n",
    "\n",
    "y = df['Episode']\n",
    "y = y.as_matrix().astype(int)\n",
    "indices = np.arange(len(y))\n",
    "print(len(y[y==1]), len(y[y==0]))\n",
    "\n",
    "df = df.drop(['PtID','ReadingDt'], axis=1)\n",
    "# since already saved these as separate arrays for identification\n",
    "df = df.drop('Gender', axis=1)\n",
    "# since it gave 0 importance!!\n",
    "\n",
    "df.drop(['Episode'],axis=1,inplace=True)\n",
    "# 'Episode' is target only, so drop it from features!"
   ]
  },
  {
   "cell_type": "code",
   "execution_count": 4,
   "metadata": {},
   "outputs": [
    {
     "name": "stdout",
     "output_type": "stream",
     "text": [
      "['Weight' 'Height' 'ExStat' 'BeforeEx' 'AfterEx' 'MeanSensor' 'MeanManual'\n",
      " 'StdSensor' 'StdManual' 'MeanDiff' 'StdDiff' 'Peaks' 'ExDiff' 'BMI']\n",
      "(131, 14)\n"
     ]
    }
   ],
   "source": [
    "x = df.as_matrix()\n",
    "\n",
    "features = np.array(df.columns.astype(str))\n",
    "np.savetxt('files/features.dat', features, fmt=\"%s\")\n",
    "print(features)\n",
    "print(shape(x))"
   ]
  },
  {
   "cell_type": "code",
   "execution_count": 5,
   "metadata": {},
   "outputs": [
    {
     "name": "stdout",
     "output_type": "stream",
     "text": [
      "train: 37 61\n",
      "test: 13 20\n"
     ]
    }
   ],
   "source": [
    "from sklearn.model_selection import train_test_split\n",
    "\n",
    "######################### Building Training and Testing Datasets ##############################\n",
    "x_train, x_test, y_train, y_test, ind_train, ind_test = train_test_split(x, y, indices, test_size=0.25, random_state=42, stratify=y)\n",
    "# stored indices to reference specific patients and dates later\n",
    "\n",
    "np.savetxt('files/x_train.dat', x_train) ; np.savetxt('files/y_train.dat', y_train)\n",
    "np.savetxt('files/x_test.dat', x_test) ; np.savetxt('files/y_test.dat', y_test)\n",
    "np.savetxt('files/ind_train.dat', ind_train) ; np.savetxt('files/ind_test.dat', ind_test)\n",
    "\n",
    "print(\"train:\",len(y_train[y_train==1]), len(y_train[y_train==0]))\n",
    "print(\"test:\",len(y_test[y_test==1]), len(y_test[y_test==0]))"
   ]
  },
  {
   "cell_type": "markdown",
   "metadata": {},
   "source": [
    "#### best recall: 0.762040816327\n",
    "#### best n_estimators: 210\n",
    "#### best min_sample_leaf: 2\n",
    "#### best warm_start: False\n",
    "#### best max_depth 7\n",
    "#### best max_features: 7"
   ]
  },
  {
   "cell_type": "code",
   "execution_count": 6,
   "metadata": {},
   "outputs": [
    {
     "data": {
      "text/plain": [
       "['test_models/model.pkl']"
      ]
     },
     "execution_count": 6,
     "metadata": {},
     "output_type": "execute_result"
    }
   ],
   "source": [
    "######################################### Training Forest ####################################################\n",
    "def train_rf(x_train, y_train, trees_rf, samples_rf, warm_rf, depth_rf, features_rf):\n",
    "  model = RandomForestClassifier(min_samples_leaf=samples_rf, oob_score=True, n_estimators=trees_rf, \n",
    "                                 warm_start = True, max_depth = depth_rf, max_features=features_rf)\n",
    "  model.fit(x_train,y_train)\n",
    "  return model\n",
    "\n",
    "model = train_rf(x_train, y_train, 50, 2, False, 7, 10)\n",
    "joblib.dump(model,'test_models/model.pkl') "
   ]
  },
  {
   "cell_type": "code",
   "execution_count": 7,
   "metadata": {
    "collapsed": true
   },
   "outputs": [],
   "source": [
    "########################################### Testing ####################################################\n",
    "def testing(x_test, model):\n",
    "  y_pred = model.predict(x_test)\n",
    "  prob = model.predict_proba(x_test) # To get confidence of the prediction\n",
    "  return np.array(y_pred), np.array(prob)\n",
    "\n",
    "y_pred, prob = testing(x_test, model)"
   ]
  },
  {
   "cell_type": "code",
   "execution_count": 8,
   "metadata": {
    "collapsed": true
   },
   "outputs": [],
   "source": [
    "def plot_confusion_matrix(cm, ylabel, xlabel):\n",
    "  plt.figure()\n",
    "  cmap = plt.cm.Oranges\n",
    "  plt.imshow(cm, interpolation='nearest', cmap=cmap)\n",
    "  plt.title('Normalized Confusion Matrix', fontsize=16)\n",
    "  plt.colorbar()\n",
    "  for (i, j), z in np.ndenumerate(cm):\n",
    "    if(z<0.5):\n",
    "        color = 'k'\n",
    "    else:\n",
    "        color = 'w' # hard to read black on dark backgrounds\n",
    "    plt.text(j, i, '{:0.2f}'.format(z), ha='center', va='center', color=color, fontsize=16)\n",
    "# write cm values on grid\n",
    "  tick_labels = ['no episode', 'episode']\n",
    "  tick_marks = np.arange(len(tick_labels))\n",
    "  plt.xticks(tick_marks, tick_labels, fontsize=13, rotation=45)\n",
    "  plt.yticks(tick_marks, tick_labels, fontsize=13)\n",
    "  plt.tight_layout()\n",
    "  plt.ylabel(ylabel, fontsize=16)\n",
    "  plt.xlabel(xlabel, fontsize=16)\n",
    "\n",
    "def plot_hist(prob_meta, prob_prec):\n",
    "  fig = plt.figure()\n",
    "  ax1 = fig.add_subplot(211)\n",
    "  ax2 = fig.add_subplot(212)\n",
    "\n",
    "  results, edges = np.histogram(prob_meta, bins=np.linspace(0,1,21,endpoint=True) , normed=True)\n",
    "  binWidth = edges[1] - edges[0]\n",
    "  ax1.bar(edges[:-1], results*binWidth, binWidth, facecolor='b', label = 'No Episode')  \n",
    "\n",
    "  results, edges = np.histogram(prob_prec, bins=np.linspace(0,1,21,endpoint=True), normed=True)\n",
    "  binWidth = edges[1] - edges[0]\n",
    "  ax2.bar(edges[:-1], results*binWidth, binWidth, facecolor='r', label = 'Episode')\n",
    "\n",
    "  ax1.set_xlim(0,1)\n",
    "  ax2.set_xlim(0,1)\n",
    "  ax1.set_ylim(0,0.5)\n",
    "  ax2.set_ylim(0,0.5)\n",
    "\n",
    "  plt.suptitle('Spread of Classification Probabilities', fontsize=15)\n",
    "  ax1.set_ylabel('Probability', fontsize=15)\n",
    "  ax2.set_ylabel('Probability', fontsize=15)\n",
    "  ax2.set_xlabel('Episode Classification Probability', fontsize=15)\n",
    "  ax1.legend(loc='best', fontsize=20)\n",
    "  ax2.legend(loc='best', fontsize=20)\n",
    "  #plt.tight_layout()"
   ]
  },
  {
   "cell_type": "code",
   "execution_count": 9,
   "metadata": {},
   "outputs": [
    {
     "name": "stdout",
     "output_type": "stream",
     "text": [
      "correct predictions (0 in 0 & 1 in 1): 78.79\n",
      "mean probabilities = for 0: 0.59 & for 1: 0.41\n",
      "Confusion Matrix true_pred:\n",
      " [[18  2]\n",
      " [ 5  8]]\n",
      "oob_score 0.63\n",
      "recall_score 0.62\n",
      "precision_score 0.8\n",
      "f1_score 0.7\n",
      "roc_auc_score 0.76\n"
     ]
    },
    {
     "data": {
      "image/png": "[encoded data removed]",
      "text/plain": [
       "<matplotlib.figure.Figure at 0x7f23b7acc9e8>"
      ]
     },
     "metadata": {},
     "output_type": "display_data"
    },
    {
     "data": {
      "image/png": "[encoded data removed]",
      "text/plain": [
       "<matplotlib.figure.Figure at 0x7f23afb82160>"
      ]
     },
     "metadata": {},
     "output_type": "display_data"
    }
   ],
   "source": [
    "################################################# Prediction & Performance ################################################# \n",
    "def prediction(x_test, y_test, y_pred, prob, model):\n",
    "  cm_true_pred = confusion_matrix(y_test, y_pred, labels = [0, 1])\n",
    "  ncm_true_pred = cm_true_pred.astype('float') / cm_true_pred.sum(axis=1)[:, np.newaxis]\n",
    "# Normalize the confusion matrix by row (i.e by the number of samples in each class)\n",
    "\n",
    "  print(\"correct predictions (0 in 0 & 1 in 1):\", np.round((cm_true_pred[0][0]+cm_true_pred[1][1])*100.0/np.sum(cm_true_pred), 2))\n",
    "  print(\"mean probabilities = for 0:\", np.round(np.mean(prob[:,0]), 2), '& for 1:', np.round(np.mean(prob[:,1]), 2))\n",
    "  print(\"Confusion Matrix true_pred:\\n\", cm_true_pred)\n",
    "  plot_confusion_matrix(ncm_true_pred, 'True Label', 'Predicted Label')\n",
    "\n",
    "  print(\"oob_score\", np.round(model.oob_score_, 2))\n",
    "  print(\"recall_score\", np.round(recall_score(y_test, y_pred, average='binary'), 2))\n",
    "  print(\"precision_score\", np.round(precision_score(y_test, y_pred, average='binary'), 2))\n",
    "  print(\"f1_score\", np.round(f1_score(y_test, y_pred, average='binary'), 2))\n",
    "  print(\"roc_auc_score\", np.round(roc_auc_score(y_test, y_pred), 2))\n",
    "  \n",
    "# plot 1D histogram of hypo '1' probabilities in '0' and '1' regions:\n",
    "  prob_0 = prob[y_test == 0, 1]\n",
    "  prob_1 = prob[y_test == 1, 1]\n",
    "  plot_hist(prob_0, prob_1)\n",
    "\n",
    "prediction(x_test, y_test, y_pred, prob, model)"
   ]
  },
  {
   "cell_type": "code",
   "execution_count": 10,
   "metadata": {},
   "outputs": [
    {
     "name": "stdout",
     "output_type": "stream",
     "text": [
      "Feature ranking:\n",
      "1. feature 2 (0.006256)\n",
      "2. feature 9 (0.024134)\n",
      "3. feature 11 (0.024687)\n",
      "4. feature 4 (0.029729)\n",
      "5. feature 12 (0.046725)\n",
      "6. feature 3 (0.054210)\n",
      "7. feature 10 (0.056372)\n",
      "8. feature 13 (0.056626)\n",
      "9. feature 7 (0.058007)\n",
      "10. feature 1 (0.069005)\n",
      "11. feature 0 (0.070838)\n",
      "12. feature 5 (0.073026)\n",
      "13. feature 8 (0.203401)\n",
      "14. feature 6 (0.226983)\n"
     ]
    },
    {
     "data": {
      "image/png": "[encoded data removed]",
      "text/plain": [
       "<matplotlib.figure.Figure at 0x7f23b7ac1d30>"
      ]
     },
     "metadata": {},
     "output_type": "display_data"
    }
   ],
   "source": [
    "importances = model.feature_importances_\n",
    "std = np.std([tree.feature_importances_ for tree in model.estimators_],\n",
    "             axis=0)\n",
    "indices = np.argsort(importances)\n",
    "\n",
    "# Print the feature ranking\n",
    "print(\"Feature ranking:\")\n",
    "\n",
    "for f in range(x_train.shape[1]):\n",
    "    print(\"%d. feature %d (%f)\" % (f + 1, indices[f], importances[indices[f]]))\n",
    "\n",
    "# Plot the feature importances of the forest\n",
    "plt.figure()\n",
    "plt.title(\"Feature importances\")\n",
    "plt.barh(range(x_train.shape[1]), importances[indices], color=\"coral\", align=\"center\")\n",
    "\n",
    "plt.yticks(range(x_train.shape[1]), features[indices])\n",
    "plt.ylim([-1, x_train.shape[1]])\n",
    "plt.show()"
   ]
  },
  {
   "cell_type": "code",
   "execution_count": 11,
   "metadata": {},
   "outputs": [
    {
     "name": "stdout",
     "output_type": "stream",
     "text": [
      "68.6390977444\n",
      "11.0415370638\n",
      "[ 0.57142857  0.65        0.78947368  0.84210526  0.57894737]\n",
      "77.4010025063\n",
      "7.45661673675\n",
      "[ 0.80952381  0.85        0.84210526  0.68421053  0.68421053]\n"
     ]
    }
   ],
   "source": [
    "rf = RandomForestClassifier()\n",
    "lr = LogisticRegression()\n",
    "\n",
    "scores = cross_val_score(rf, x_train, y_train.ravel(), cv=5)\n",
    "print(scores.mean()*100)\n",
    "print(scores.std()*100)\n",
    "print(scores)\t\n",
    "\n",
    "scores = cross_val_score(lr, x_train, y_train.ravel(), cv=5)\n",
    "print(scores.mean()*100)\n",
    "print(scores.std()*100)\n",
    "print(scores)"
   ]
  },
  {
   "cell_type": "raw",
   "metadata": {
    "collapsed": true
   },
   "source": [
    "def plot_learning_curve(estimator, title, X, y, ylim=None, cv=None,\n",
    "                        n_jobs=1, train_sizes=np.linspace(.1, 1.0, 5)):\n",
    "\n",
    "    plt.figure(dpi=500)\n",
    "    plt.title(title)\n",
    "    if ylim is not None:\n",
    "        plt.ylim(*ylim)\n",
    "    plt.xlabel(\"Training examples\")\n",
    "    plt.ylabel(\"Score\")\n",
    "    train_sizes, train_scores, test_scores = learning_curve(\n",
    "        estimator, X, y, cv=cv, n_jobs=n_jobs, train_sizes=train_sizes)\n",
    "    train_scores_mean = np.mean(train_scores, axis=1)\n",
    "    train_scores_std = np.std(train_scores, axis=1)\n",
    "    test_scores_mean = np.mean(test_scores, axis=1)\n",
    "    test_scores_std = np.std(test_scores, axis=1)\n",
    "    plt.grid()\n",
    "\n",
    "    plt.fill_between(train_sizes, train_scores_mean - train_scores_std,\n",
    "                     train_scores_mean + train_scores_std, alpha=0.1,\n",
    "                     color=\"r\")\n",
    "    plt.fill_between(train_sizes, test_scores_mean - test_scores_std,\n",
    "                     test_scores_mean + test_scores_std, alpha=0.1, color=\"g\")\n",
    "    plt.plot(train_sizes, train_scores_mean, 'o-', color=\"r\",\n",
    "             label=\"Training score\")\n",
    "    plt.plot(train_sizes, test_scores_mean, 'o-', color=\"g\",\n",
    "             label=\"Cross-validation score\")\n",
    "\n",
    "    plt.legend(loc=\"best\")\n",
    "    \n",
    "    return plt\n"
   ]
  }
 ],
 "metadata": {
  "kernelspec": {
   "display_name": "Python [conda env:anaconda3]",
   "language": "python",
   "name": "conda-env-anaconda3-py"
  },
  "language_info": {
   "codemirror_mode": {
    "name": "ipython",
    "version": 3
   },
   "file_extension": ".py",
   "mimetype": "text/x-python",
   "name": "python",
   "nbconvert_exporter": "python",
   "pygments_lexer": "ipython3",
   "version": "3.6.3"
  }
 },
 "nbformat": 4,
 "nbformat_minor": 2
}
